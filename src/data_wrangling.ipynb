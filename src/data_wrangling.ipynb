{
 "cells": [
  {
   "cell_type": "markdown",
   "metadata": {},
   "source": [
    "# Rickettsiosis - Data Wrangling"
   ]
  },
  {
   "cell_type": "markdown",
   "metadata": {},
   "source": [
    "### Import libraries"
   ]
  },
  {
   "cell_type": "code",
   "execution_count": 3,
   "metadata": {},
   "outputs": [],
   "source": [
    "import numpy as np \n",
    "import pandas as pd "
   ]
  },
  {
   "cell_type": "markdown",
   "metadata": {},
   "source": [
    "### Data Wrangling"
   ]
  },
  {
   "cell_type": "markdown",
   "metadata": {},
   "source": [
    "**2016**"
   ]
  },
  {
   "cell_type": "code",
   "execution_count": 81,
   "metadata": {},
   "outputs": [],
   "source": [
    "DATA2016 = '../data/2016.xlsx'\n",
    "xls = pd.ExcelFile(DATA2016)\n",
    "\n",
    "weeks = xls.sheet_names    \n",
    "\n",
    "dataframes = []    # empty list to group dataframes\n",
    "\n",
    "col_names = {0: 'state', 5: 'week_cases', 6: 'm_accum', 7: 'f_accum'}\n",
    "\n",
    "for week in weeks:\n",
    "    df = pd.read_excel(xls, sheet_name=week, header=None)                     \n",
    "    df.drop([1,2,3,4,8], axis=1, inplace=True)    # delete unnecesary columns\n",
    "    df.drop(32, inplace=True)                     # delete \"Total\" row\n",
    "    df.replace('-', np.NaN, inplace=True)         # replace '-' for NaN value\n",
    "    df['week'] = week.split('sem')[-1]                                        \n",
    "    df['year'] = 2016                                                         \n",
    "    df.rename(columns=col_names, inplace=True)                                \n",
    "    df = df[['state', 'year', 'week', 'week_cases', 'm_accum', 'f_accum']]    \n",
    "    dataframes.append(df)    # appends all dataframes"
   ]
  },
  {
   "cell_type": "code",
   "execution_count": 82,
   "metadata": {},
   "outputs": [
    {
     "data": {
      "text/html": [
       "<div>\n",
       "<style scoped>\n",
       "    .dataframe tbody tr th:only-of-type {\n",
       "        vertical-align: middle;\n",
       "    }\n",
       "\n",
       "    .dataframe tbody tr th {\n",
       "        vertical-align: top;\n",
       "    }\n",
       "\n",
       "    .dataframe thead th {\n",
       "        text-align: right;\n",
       "    }\n",
       "</style>\n",
       "<table border=\"1\" class=\"dataframe\">\n",
       "  <thead>\n",
       "    <tr style=\"text-align: right;\">\n",
       "      <th></th>\n",
       "      <th>state</th>\n",
       "      <th>year</th>\n",
       "      <th>week</th>\n",
       "      <th>week_cases</th>\n",
       "      <th>m_accum</th>\n",
       "      <th>f_accum</th>\n",
       "    </tr>\n",
       "  </thead>\n",
       "  <tbody>\n",
       "    <tr>\n",
       "      <th>0</th>\n",
       "      <td>Aguascalientes</td>\n",
       "      <td>2016</td>\n",
       "      <td>1</td>\n",
       "      <td>NaN</td>\n",
       "      <td>NaN</td>\n",
       "      <td>NaN</td>\n",
       "    </tr>\n",
       "    <tr>\n",
       "      <th>1</th>\n",
       "      <td>Baja California</td>\n",
       "      <td>2016</td>\n",
       "      <td>1</td>\n",
       "      <td>NaN</td>\n",
       "      <td>NaN</td>\n",
       "      <td>NaN</td>\n",
       "    </tr>\n",
       "    <tr>\n",
       "      <th>2</th>\n",
       "      <td>Baja California Sur</td>\n",
       "      <td>2016</td>\n",
       "      <td>1</td>\n",
       "      <td>NaN</td>\n",
       "      <td>NaN</td>\n",
       "      <td>NaN</td>\n",
       "    </tr>\n",
       "    <tr>\n",
       "      <th>3</th>\n",
       "      <td>Campeche</td>\n",
       "      <td>2016</td>\n",
       "      <td>1</td>\n",
       "      <td>NaN</td>\n",
       "      <td>NaN</td>\n",
       "      <td>NaN</td>\n",
       "    </tr>\n",
       "    <tr>\n",
       "      <th>4</th>\n",
       "      <td>Coahuila</td>\n",
       "      <td>2016</td>\n",
       "      <td>1</td>\n",
       "      <td>NaN</td>\n",
       "      <td>NaN</td>\n",
       "      <td>NaN</td>\n",
       "    </tr>\n",
       "  </tbody>\n",
       "</table>\n",
       "</div>"
      ],
      "text/plain": [
       "                 state  year week  week_cases  m_accum  f_accum\n",
       "0       Aguascalientes  2016    1         NaN      NaN      NaN\n",
       "1      Baja California  2016    1         NaN      NaN      NaN\n",
       "2  Baja California Sur  2016    1         NaN      NaN      NaN\n",
       "3             Campeche  2016    1         NaN      NaN      NaN\n",
       "4             Coahuila  2016    1         NaN      NaN      NaN"
      ]
     },
     "execution_count": 82,
     "metadata": {},
     "output_type": "execute_result"
    }
   ],
   "source": [
    "combined_dataframes = pd.concat(dataframes)\n",
    "combined_dataframes.to_csv('../data/csv/2016.csv', index=False)\n",
    "combined_dataframes.head()"
   ]
  },
  {
   "cell_type": "markdown",
   "metadata": {},
   "source": [
    "**2017**"
   ]
  },
  {
   "cell_type": "code",
   "execution_count": 83,
   "metadata": {},
   "outputs": [],
   "source": [
    "DATA2017 = '../data/2017.xlsx'\n",
    "xls = pd.ExcelFile(DATA2017)\n",
    "\n",
    "weeks = xls.sheet_names    \n",
    "\n",
    "dataframes = []    # empty list to group dataframes\n",
    "\n",
    "col_names = {0: 'state', 5: 'week_cases', 6: 'm_accum', 7: 'f_accum'}\n",
    "\n",
    "for week in weeks:\n",
    "    df = pd.read_excel(xls, sheet_name=week, header=None)                     \n",
    "    df.drop([1,2,3,4,8], axis=1, inplace=True)    # delete unnecesary columns\n",
    "    df.drop(32, inplace=True)                     # delete \"Total\" row\n",
    "    df.replace('-', np.NaN, inplace=True)         # replace '-' for NaN\n",
    "    df['week'] = week.split('sem')[-1]                                        \n",
    "    df['year'] = 2017                                                      \n",
    "    df.rename(columns=col_names, inplace=True)                                \n",
    "    df = df[['state', 'year', 'week', 'week_cases', 'm_accum', 'f_accum']]    \n",
    "    dataframes.append(df)                         # appends all dataframes"
   ]
  },
  {
   "cell_type": "code",
   "execution_count": 84,
   "metadata": {},
   "outputs": [
    {
     "data": {
      "text/html": [
       "<div>\n",
       "<style scoped>\n",
       "    .dataframe tbody tr th:only-of-type {\n",
       "        vertical-align: middle;\n",
       "    }\n",
       "\n",
       "    .dataframe tbody tr th {\n",
       "        vertical-align: top;\n",
       "    }\n",
       "\n",
       "    .dataframe thead th {\n",
       "        text-align: right;\n",
       "    }\n",
       "</style>\n",
       "<table border=\"1\" class=\"dataframe\">\n",
       "  <thead>\n",
       "    <tr style=\"text-align: right;\">\n",
       "      <th></th>\n",
       "      <th>state</th>\n",
       "      <th>year</th>\n",
       "      <th>week</th>\n",
       "      <th>week_cases</th>\n",
       "      <th>m_accum</th>\n",
       "      <th>f_accum</th>\n",
       "    </tr>\n",
       "  </thead>\n",
       "  <tbody>\n",
       "    <tr>\n",
       "      <th>0</th>\n",
       "      <td>Aguascalientes</td>\n",
       "      <td>2017</td>\n",
       "      <td>1</td>\n",
       "      <td>NaN</td>\n",
       "      <td>NaN</td>\n",
       "      <td>NaN</td>\n",
       "    </tr>\n",
       "    <tr>\n",
       "      <th>1</th>\n",
       "      <td>Baja California</td>\n",
       "      <td>2017</td>\n",
       "      <td>1</td>\n",
       "      <td>NaN</td>\n",
       "      <td>NaN</td>\n",
       "      <td>NaN</td>\n",
       "    </tr>\n",
       "    <tr>\n",
       "      <th>2</th>\n",
       "      <td>Baja California Sur</td>\n",
       "      <td>2017</td>\n",
       "      <td>1</td>\n",
       "      <td>NaN</td>\n",
       "      <td>NaN</td>\n",
       "      <td>NaN</td>\n",
       "    </tr>\n",
       "    <tr>\n",
       "      <th>3</th>\n",
       "      <td>Campeche</td>\n",
       "      <td>2017</td>\n",
       "      <td>1</td>\n",
       "      <td>NaN</td>\n",
       "      <td>NaN</td>\n",
       "      <td>NaN</td>\n",
       "    </tr>\n",
       "    <tr>\n",
       "      <th>4</th>\n",
       "      <td>Coahuila</td>\n",
       "      <td>2017</td>\n",
       "      <td>1</td>\n",
       "      <td>NaN</td>\n",
       "      <td>NaN</td>\n",
       "      <td>NaN</td>\n",
       "    </tr>\n",
       "  </tbody>\n",
       "</table>\n",
       "</div>"
      ],
      "text/plain": [
       "                 state  year week  week_cases  m_accum  f_accum\n",
       "0       Aguascalientes  2017    1         NaN      NaN      NaN\n",
       "1      Baja California  2017    1         NaN      NaN      NaN\n",
       "2  Baja California Sur  2017    1         NaN      NaN      NaN\n",
       "3             Campeche  2017    1         NaN      NaN      NaN\n",
       "4             Coahuila  2017    1         NaN      NaN      NaN"
      ]
     },
     "execution_count": 84,
     "metadata": {},
     "output_type": "execute_result"
    }
   ],
   "source": [
    "combined_dataframes = pd.concat(dataframes)\n",
    "combined_dataframes.to_csv('../data/csv/2017.csv', index=False)\n",
    "combined_dataframes.head()"
   ]
  },
  {
   "cell_type": "markdown",
   "metadata": {},
   "source": [
    "**2015**"
   ]
  },
  {
   "cell_type": "markdown",
   "metadata": {},
   "source": [
    "**Semana 1 - equivalent to last week of 2014**"
   ]
  },
  {
   "cell_type": "code",
   "execution_count": 85,
   "metadata": {},
   "outputs": [],
   "source": [
    "DATA2015 = '../data/2015.xlsx'\n",
    "xls = pd.ExcelFile(DATA2015)\n",
    "\n",
    "col_names = {0: 'state', 4: 'week_cases', 5: 'm_accum', 6: 'f_accum'}\n",
    "\n",
    "df = pd.read_excel(DATA2015, header=None)   \n",
    "df.drop([1, 2, 3, 7], axis=1, inplace=True)\n",
    "df.drop(32, inplace=True)                   \n",
    "df.replace('-', np.NaN, inplace=True)\n",
    "df['week'] = 53\n",
    "df['year'] = 2014\n",
    "df.rename(columns=col_names, inplace=True)\n",
    "df = df[['state', 'year', 'week', 'week_cases', 'm_accum', 'f_accum']]\n",
    "df.to_csv('../data/csv/2014.csv', index=False)"
   ]
  },
  {
   "cell_type": "markdown",
   "metadata": {},
   "source": [
    "**Semana 15 - no data** "
   ]
  },
  {
   "cell_type": "markdown",
   "metadata": {},
   "source": [
    "**Las demás semanas**"
   ]
  },
  {
   "cell_type": "code",
   "execution_count": 95,
   "metadata": {},
   "outputs": [],
   "source": [
    "DATA2015 = '../data/2015.xlsx'\n",
    "xls = pd.ExcelFile(DATA2015)\n",
    "\n",
    "weeks = xls.sheet_names\n",
    "weeks.remove('sem1+')\n",
    "weeks.remove('sem15+')\n",
    "\n",
    "dataframes = []\n",
    "\n",
    "col_names = {0: 'state', 5: 'week_cases', 6: 'm_accum', 7: 'f_accum'}\n",
    "\n",
    "for week in weeks:\n",
    "    df = pd.read_excel(xls, sheet_name=week, header=None)\n",
    "    df.drop([1,2,3,4,8], axis=1, inplace=True)\n",
    "    df.drop(32, inplace=True)\n",
    "    df.replace('-', np.NaN, inplace=True)\n",
    "    df['week'] = week.split('sem')[-1]\n",
    "    df['year'] = 2015\n",
    "    df.rename(columns=col_names, inplace=True)\n",
    "    df = df[['state', 'year', 'week', 'week_cases', 'm_accum', 'f_accum']]   \n",
    "    dataframes.append(df)                                               "
   ]
  },
  {
   "cell_type": "code",
   "execution_count": 96,
   "metadata": {},
   "outputs": [
    {
     "data": {
      "text/html": [
       "<div>\n",
       "<style scoped>\n",
       "    .dataframe tbody tr th:only-of-type {\n",
       "        vertical-align: middle;\n",
       "    }\n",
       "\n",
       "    .dataframe tbody tr th {\n",
       "        vertical-align: top;\n",
       "    }\n",
       "\n",
       "    .dataframe thead th {\n",
       "        text-align: right;\n",
       "    }\n",
       "</style>\n",
       "<table border=\"1\" class=\"dataframe\">\n",
       "  <thead>\n",
       "    <tr style=\"text-align: right;\">\n",
       "      <th></th>\n",
       "      <th>state</th>\n",
       "      <th>year</th>\n",
       "      <th>week</th>\n",
       "      <th>week_cases</th>\n",
       "      <th>m_accum</th>\n",
       "      <th>f_accum</th>\n",
       "    </tr>\n",
       "  </thead>\n",
       "  <tbody>\n",
       "    <tr>\n",
       "      <th>0</th>\n",
       "      <td>Aguascalientes</td>\n",
       "      <td>2015</td>\n",
       "      <td>2</td>\n",
       "      <td>NaN</td>\n",
       "      <td>NaN</td>\n",
       "      <td>NaN</td>\n",
       "    </tr>\n",
       "    <tr>\n",
       "      <th>1</th>\n",
       "      <td>Baja California</td>\n",
       "      <td>2015</td>\n",
       "      <td>2</td>\n",
       "      <td>NaN</td>\n",
       "      <td>NaN</td>\n",
       "      <td>NaN</td>\n",
       "    </tr>\n",
       "    <tr>\n",
       "      <th>2</th>\n",
       "      <td>Baja California Sur</td>\n",
       "      <td>2015</td>\n",
       "      <td>2</td>\n",
       "      <td>NaN</td>\n",
       "      <td>NaN</td>\n",
       "      <td>NaN</td>\n",
       "    </tr>\n",
       "    <tr>\n",
       "      <th>3</th>\n",
       "      <td>Campeche</td>\n",
       "      <td>2015</td>\n",
       "      <td>2</td>\n",
       "      <td>NaN</td>\n",
       "      <td>NaN</td>\n",
       "      <td>NaN</td>\n",
       "    </tr>\n",
       "    <tr>\n",
       "      <th>4</th>\n",
       "      <td>Coahuila</td>\n",
       "      <td>2015</td>\n",
       "      <td>2</td>\n",
       "      <td>NaN</td>\n",
       "      <td>NaN</td>\n",
       "      <td>NaN</td>\n",
       "    </tr>\n",
       "  </tbody>\n",
       "</table>\n",
       "</div>"
      ],
      "text/plain": [
       "                 state  year week  week_cases  m_accum  f_accum\n",
       "0       Aguascalientes  2015    2         NaN      NaN      NaN\n",
       "1      Baja California  2015    2         NaN      NaN      NaN\n",
       "2  Baja California Sur  2015    2         NaN      NaN      NaN\n",
       "3             Campeche  2015    2         NaN      NaN      NaN\n",
       "4             Coahuila  2015    2         NaN      NaN      NaN"
      ]
     },
     "execution_count": 96,
     "metadata": {},
     "output_type": "execute_result"
    }
   ],
   "source": [
    "combined_dataframes = pd.concat(dataframes)\n",
    "combined_dataframes.to_csv('../data/csv/2015.csv', index=False)\n",
    "combined_dataframes.head()"
   ]
  },
  {
   "cell_type": "markdown",
   "metadata": {},
   "source": [
    "**2014**"
   ]
  },
  {
   "cell_type": "markdown",
   "metadata": {},
   "source": [
    "**Semana 1 - no data** "
   ]
  },
  {
   "cell_type": "code",
   "execution_count": 7,
   "metadata": {},
   "outputs": [],
   "source": [
    "DATA2014 = '../data/2014.xlsx'\n",
    "xls = pd.ExcelFile(DATA2014)\n",
    "\n",
    "weeks = xls.sheet_names\n",
    "weeks.remove('sem1+')\n",
    "\n",
    "dataframes = []\n",
    "\n",
    "col_names = {0: 'state', 4: 'week_cases', 5: 'm_accum', 6: 'f_accum'}\n",
    "\n",
    "for week in weeks:\n",
    "    df = pd.read_excel(xls, sheet_name=week, header=None)\n",
    "    df.drop([1,2,3,7], axis=1, inplace=True)\n",
    "    df.drop(32, inplace=True)\n",
    "    df.replace('-', np.NaN, inplace=True)\n",
    "    df['week'] = week.split('sem')[-1]\n",
    "    df['year'] = 2014\n",
    "    df.rename(columns=col_names, inplace=True)\n",
    "    df = df[['state', 'year', 'week', 'week_cases', 'm_accum', 'f_accum']]   \n",
    "    dataframes.append(df) "
   ]
  },
  {
   "cell_type": "code",
   "execution_count": 8,
   "metadata": {},
   "outputs": [
    {
     "data": {
      "text/html": [
       "<div>\n",
       "<style scoped>\n",
       "    .dataframe tbody tr th:only-of-type {\n",
       "        vertical-align: middle;\n",
       "    }\n",
       "\n",
       "    .dataframe tbody tr th {\n",
       "        vertical-align: top;\n",
       "    }\n",
       "\n",
       "    .dataframe thead th {\n",
       "        text-align: right;\n",
       "    }\n",
       "</style>\n",
       "<table border=\"1\" class=\"dataframe\">\n",
       "  <thead>\n",
       "    <tr style=\"text-align: right;\">\n",
       "      <th></th>\n",
       "      <th>state</th>\n",
       "      <th>year</th>\n",
       "      <th>week</th>\n",
       "      <th>week_cases</th>\n",
       "      <th>m_accum</th>\n",
       "      <th>f_accum</th>\n",
       "    </tr>\n",
       "  </thead>\n",
       "  <tbody>\n",
       "    <tr>\n",
       "      <th>0</th>\n",
       "      <td>Aguascalientes</td>\n",
       "      <td>2014</td>\n",
       "      <td>2</td>\n",
       "      <td>NaN</td>\n",
       "      <td>NaN</td>\n",
       "      <td>NaN</td>\n",
       "    </tr>\n",
       "    <tr>\n",
       "      <th>1</th>\n",
       "      <td>Baja California</td>\n",
       "      <td>2014</td>\n",
       "      <td>2</td>\n",
       "      <td>2.0</td>\n",
       "      <td>1.0</td>\n",
       "      <td>1.0</td>\n",
       "    </tr>\n",
       "    <tr>\n",
       "      <th>2</th>\n",
       "      <td>Baja California Sur</td>\n",
       "      <td>2014</td>\n",
       "      <td>2</td>\n",
       "      <td>NaN</td>\n",
       "      <td>NaN</td>\n",
       "      <td>NaN</td>\n",
       "    </tr>\n",
       "    <tr>\n",
       "      <th>3</th>\n",
       "      <td>Campeche</td>\n",
       "      <td>2014</td>\n",
       "      <td>2</td>\n",
       "      <td>NaN</td>\n",
       "      <td>NaN</td>\n",
       "      <td>NaN</td>\n",
       "    </tr>\n",
       "    <tr>\n",
       "      <th>4</th>\n",
       "      <td>Coahuila</td>\n",
       "      <td>2014</td>\n",
       "      <td>2</td>\n",
       "      <td>NaN</td>\n",
       "      <td>NaN</td>\n",
       "      <td>NaN</td>\n",
       "    </tr>\n",
       "  </tbody>\n",
       "</table>\n",
       "</div>"
      ],
      "text/plain": [
       "                 state  year week  week_cases  m_accum  f_accum\n",
       "0       Aguascalientes  2014    2         NaN      NaN      NaN\n",
       "1      Baja California  2014    2         2.0      1.0      1.0\n",
       "2  Baja California Sur  2014    2         NaN      NaN      NaN\n",
       "3             Campeche  2014    2         NaN      NaN      NaN\n",
       "4             Coahuila  2014    2         NaN      NaN      NaN"
      ]
     },
     "execution_count": 8,
     "metadata": {},
     "output_type": "execute_result"
    }
   ],
   "source": [
    "combined_dataframes = pd.concat(dataframes)\n",
    "combined_dataframes.to_csv('../data/csv/2014.csv', index=False)\n",
    "combined_dataframes.head() "
   ]
  },
  {
   "cell_type": "markdown",
   "metadata": {},
   "source": [
    "## Append all CSV files"
   ]
  },
  {
   "cell_type": "code",
   "execution_count": 9,
   "metadata": {},
   "outputs": [],
   "source": [
    "csv2014 = pd.read_csv('../data/csv/2014.csv')\n",
    "csv2015 = pd.read_csv('../data/csv/2015.csv')\n",
    "csv2016 = pd.read_csv('../data/csv/2016.csv')\n",
    "csv2017 = pd.read_csv('../data/csv/2017.csv')"
   ]
  },
  {
   "cell_type": "code",
   "execution_count": 15,
   "metadata": {},
   "outputs": [],
   "source": [
    "completecsv = csv2014.append([csv2015, csv2016, csv2017])"
   ]
  },
  {
   "cell_type": "code",
   "execution_count": 16,
   "metadata": {},
   "outputs": [],
   "source": [
    "completecsv.to_csv('../data/csv/data.csv', index=False)"
   ]
  },
  {
   "cell_type": "code",
   "execution_count": null,
   "metadata": {},
   "outputs": [],
   "source": []
  }
 ],
 "metadata": {
  "kernelspec": {
   "display_name": "Python 3",
   "language": "python",
   "name": "python3"
  },
  "language_info": {
   "codemirror_mode": {
    "name": "ipython",
    "version": 3
   },
   "file_extension": ".py",
   "mimetype": "text/x-python",
   "name": "python",
   "nbconvert_exporter": "python",
   "pygments_lexer": "ipython3",
   "version": "3.7.2"
  }
 },
 "nbformat": 4,
 "nbformat_minor": 2
}
