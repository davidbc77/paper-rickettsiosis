{
 "cells": [
  {
   "cell_type": "markdown",
   "metadata": {},
   "source": [
    "# Rickettsiosis - Data Wrangling"
   ]
  },
  {
   "cell_type": "markdown",
   "metadata": {},
   "source": [
    "### Import libraries"
   ]
  },
  {
   "cell_type": "code",
   "execution_count": 53,
   "metadata": {},
   "outputs": [],
   "source": [
    "import numpy as np \n",
    "import pandas as pd "
   ]
  },
  {
   "cell_type": "markdown",
   "metadata": {},
   "source": [
    "### Data Wrangling"
   ]
  },
  {
   "cell_type": "markdown",
   "metadata": {},
   "source": [
    "**2016**"
   ]
  },
  {
   "cell_type": "code",
   "execution_count": 54,
   "metadata": {},
   "outputs": [],
   "source": [
    "DATA2016 = '../data/2016.xlsx'\n",
    "xls = pd.ExcelFile(DATA2016)\n",
    "\n",
    "semanas = xls.sheet_names    \n",
    "\n",
    "listings = []                    # create empty list to collect DataFrames\n",
    "\n",
    "col_names = {0: 'estado', 5: 'sem', 6: 'm_acum', 7: 'f_acum', 8: '2015_acum'}\n",
    "\n",
    "for semana in semanas:\n",
    "    listing = pd.read_excel(xls, sheet_name=semana, header=None)    # read a sheet\n",
    "    listing.drop([1,2,3,4], axis=1, inplace=True)                   # delete unnecesary columns\n",
    "    listing['no_sem'] = semana.split('sem')[-1]                     # add 'no_sem' column\n",
    "    listing['anio'] = 2016                                          # add 'anio' column\n",
    "    listing.rename(columns=col_names, inplace=True)                 # rename columns\n",
    "    listing = listing[:].replace('-',0)                             # replace '-' for 0\n",
    "    listings.append(listing)                                        # appends all DataFrames"
   ]
  },
  {
   "cell_type": "code",
   "execution_count": 55,
   "metadata": {},
   "outputs": [
    {
     "data": {
      "text/html": [
       "<div>\n",
       "<style scoped>\n",
       "    .dataframe tbody tr th:only-of-type {\n",
       "        vertical-align: middle;\n",
       "    }\n",
       "\n",
       "    .dataframe tbody tr th {\n",
       "        vertical-align: top;\n",
       "    }\n",
       "\n",
       "    .dataframe thead th {\n",
       "        text-align: right;\n",
       "    }\n",
       "</style>\n",
       "<table border=\"1\" class=\"dataframe\">\n",
       "  <thead>\n",
       "    <tr style=\"text-align: right;\">\n",
       "      <th></th>\n",
       "      <th>estado</th>\n",
       "      <th>sem</th>\n",
       "      <th>m_acum</th>\n",
       "      <th>f_acum</th>\n",
       "      <th>2015_acum</th>\n",
       "      <th>no_sem</th>\n",
       "      <th>anio</th>\n",
       "    </tr>\n",
       "  </thead>\n",
       "  <tbody>\n",
       "    <tr>\n",
       "      <th>0</th>\n",
       "      <td>Aguascalientes</td>\n",
       "      <td>0</td>\n",
       "      <td>0</td>\n",
       "      <td>0</td>\n",
       "      <td>0</td>\n",
       "      <td>1</td>\n",
       "      <td>2016</td>\n",
       "    </tr>\n",
       "    <tr>\n",
       "      <th>1</th>\n",
       "      <td>Baja California</td>\n",
       "      <td>0</td>\n",
       "      <td>0</td>\n",
       "      <td>0</td>\n",
       "      <td>0</td>\n",
       "      <td>1</td>\n",
       "      <td>2016</td>\n",
       "    </tr>\n",
       "    <tr>\n",
       "      <th>2</th>\n",
       "      <td>Baja California Sur</td>\n",
       "      <td>0</td>\n",
       "      <td>0</td>\n",
       "      <td>0</td>\n",
       "      <td>0</td>\n",
       "      <td>1</td>\n",
       "      <td>2016</td>\n",
       "    </tr>\n",
       "    <tr>\n",
       "      <th>3</th>\n",
       "      <td>Campeche</td>\n",
       "      <td>0</td>\n",
       "      <td>0</td>\n",
       "      <td>0</td>\n",
       "      <td>0</td>\n",
       "      <td>1</td>\n",
       "      <td>2016</td>\n",
       "    </tr>\n",
       "    <tr>\n",
       "      <th>4</th>\n",
       "      <td>Coahuila</td>\n",
       "      <td>0</td>\n",
       "      <td>0</td>\n",
       "      <td>0</td>\n",
       "      <td>0</td>\n",
       "      <td>1</td>\n",
       "      <td>2016</td>\n",
       "    </tr>\n",
       "  </tbody>\n",
       "</table>\n",
       "</div>"
      ],
      "text/plain": [
       "                estado  sem  m_acum  f_acum  2015_acum no_sem  anio\n",
       "0       Aguascalientes    0       0       0          0      1  2016\n",
       "1      Baja California    0       0       0          0      1  2016\n",
       "2  Baja California Sur    0       0       0          0      1  2016\n",
       "3             Campeche    0       0       0          0      1  2016\n",
       "4             Coahuila    0       0       0          0      1  2016"
      ]
     },
     "execution_count": 55,
     "metadata": {},
     "output_type": "execute_result"
    }
   ],
   "source": [
    "combined_listings = pd.concat(listings)\n",
    "combined_listings.to_csv('../data/csv/2016.csv', index=False)\n",
    "combined_listings.head()"
   ]
  },
  {
   "cell_type": "markdown",
   "metadata": {},
   "source": [
    "**2017**"
   ]
  },
  {
   "cell_type": "code",
   "execution_count": 60,
   "metadata": {},
   "outputs": [],
   "source": [
    "DATA2017 = '../data/2017.xlsx'\n",
    "xls = pd.ExcelFile(DATA2017)\n",
    "\n",
    "semanas = xls.sheet_names    \n",
    "\n",
    "listings = []                    # create empty list to collect DataFrames\n",
    "\n",
    "col_names = {0: 'estado', 5: 'sem', 6: 'm_acum', 7: 'f_acum', 8: '2016_acum'}\n",
    "\n",
    "for semana in semanas:\n",
    "    listing = pd.read_excel(xls, sheet_name=semana, header=None)    # read a sheet\n",
    "    listing.drop([1,2,3,4], axis=1, inplace=True)                   # delete unnecesary columns\n",
    "    listing['no_sem'] = semana.split('sem')[-1]                     # add 'no_sem' column\n",
    "    listing['anio'] = 2017                                          # add 'anio' column\n",
    "    listing.rename(columns=col_names, inplace=True)                 # rename columns\n",
    "    listing = listing[:].replace('-',0)                             # replace '-' for 0\n",
    "    listings.append(listing)                                        # appends all DataFrames"
   ]
  },
  {
   "cell_type": "code",
   "execution_count": 61,
   "metadata": {},
   "outputs": [
    {
     "data": {
      "text/html": [
       "<div>\n",
       "<style scoped>\n",
       "    .dataframe tbody tr th:only-of-type {\n",
       "        vertical-align: middle;\n",
       "    }\n",
       "\n",
       "    .dataframe tbody tr th {\n",
       "        vertical-align: top;\n",
       "    }\n",
       "\n",
       "    .dataframe thead th {\n",
       "        text-align: right;\n",
       "    }\n",
       "</style>\n",
       "<table border=\"1\" class=\"dataframe\">\n",
       "  <thead>\n",
       "    <tr style=\"text-align: right;\">\n",
       "      <th></th>\n",
       "      <th>estado</th>\n",
       "      <th>sem</th>\n",
       "      <th>m_acum</th>\n",
       "      <th>f_acum</th>\n",
       "      <th>2016_acum</th>\n",
       "      <th>no_sem</th>\n",
       "      <th>anio</th>\n",
       "    </tr>\n",
       "  </thead>\n",
       "  <tbody>\n",
       "    <tr>\n",
       "      <th>0</th>\n",
       "      <td>Aguascalientes</td>\n",
       "      <td>0</td>\n",
       "      <td>0</td>\n",
       "      <td>0</td>\n",
       "      <td>0</td>\n",
       "      <td>1</td>\n",
       "      <td>2017</td>\n",
       "    </tr>\n",
       "    <tr>\n",
       "      <th>1</th>\n",
       "      <td>Baja California</td>\n",
       "      <td>0</td>\n",
       "      <td>0</td>\n",
       "      <td>0</td>\n",
       "      <td>0</td>\n",
       "      <td>1</td>\n",
       "      <td>2017</td>\n",
       "    </tr>\n",
       "    <tr>\n",
       "      <th>2</th>\n",
       "      <td>Baja California Sur</td>\n",
       "      <td>0</td>\n",
       "      <td>0</td>\n",
       "      <td>0</td>\n",
       "      <td>0</td>\n",
       "      <td>1</td>\n",
       "      <td>2017</td>\n",
       "    </tr>\n",
       "    <tr>\n",
       "      <th>3</th>\n",
       "      <td>Campeche</td>\n",
       "      <td>0</td>\n",
       "      <td>0</td>\n",
       "      <td>0</td>\n",
       "      <td>0</td>\n",
       "      <td>1</td>\n",
       "      <td>2017</td>\n",
       "    </tr>\n",
       "    <tr>\n",
       "      <th>4</th>\n",
       "      <td>Coahuila</td>\n",
       "      <td>0</td>\n",
       "      <td>0</td>\n",
       "      <td>0</td>\n",
       "      <td>0</td>\n",
       "      <td>1</td>\n",
       "      <td>2017</td>\n",
       "    </tr>\n",
       "  </tbody>\n",
       "</table>\n",
       "</div>"
      ],
      "text/plain": [
       "                estado  sem  m_acum  f_acum  2016_acum no_sem  anio\n",
       "0       Aguascalientes    0       0       0          0      1  2017\n",
       "1      Baja California    0       0       0          0      1  2017\n",
       "2  Baja California Sur    0       0       0          0      1  2017\n",
       "3             Campeche    0       0       0          0      1  2017\n",
       "4             Coahuila    0       0       0          0      1  2017"
      ]
     },
     "execution_count": 61,
     "metadata": {},
     "output_type": "execute_result"
    }
   ],
   "source": [
    "combined_listings = pd.concat(listings)\n",
    "combined_listings.to_csv('../data/csv/2017.csv', index=False)\n",
    "combined_listings.head()"
   ]
  },
  {
   "cell_type": "markdown",
   "metadata": {},
   "source": [
    "**2015**"
   ]
  },
  {
   "cell_type": "markdown",
   "metadata": {},
   "source": [
    "**Semana 1 - hasta la semana epidemiológica 53 del 2014**"
   ]
  },
  {
   "cell_type": "code",
   "execution_count": 83,
   "metadata": {},
   "outputs": [],
   "source": [
    "DATA2015 = '../data/2015.xlsx'\n",
    "xls = pd.ExcelFile(DATA2015)\n",
    "\n",
    "col_names = {0: 'estado', 4: 'sem', 5: 'm_acum', 6: 'f_acum', 7: '2013_acum'}\n",
    "\n",
    "dfw1 = pd.read_excel(DATA2015, header=None)    # DataFrame week 1\n",
    "dfw1.drop([1, 2, 3], axis=1, inplace=True)\n",
    "dfw1.rename(columns=col_names, inplace=True)\n",
    "dfw1['no_sem'] = 53\n",
    "dfw1['anio'] = 2014\n",
    "dfw1 = dfw1[:].replace('-',0)\n",
    "dfw1.to_csv('../data/csv/2014.csv', index=False)"
   ]
  },
  {
   "cell_type": "markdown",
   "metadata": {},
   "source": [
    "**Semana 15 - No hay información** "
   ]
  },
  {
   "cell_type": "markdown",
   "metadata": {},
   "source": [
    "**Las demás semanas**"
   ]
  },
  {
   "cell_type": "code",
   "execution_count": 84,
   "metadata": {},
   "outputs": [],
   "source": [
    "DATA2015 = '../data/2015.xlsx'\n",
    "xls = pd.ExcelFile(DATA2015)\n",
    "\n",
    "semanas = xls.sheet_names\n",
    "semanas.remove('sem1+')\n",
    "semanas.remove('sem15+')\n",
    "\n",
    "dataframes = []                    # create empty list to collect DataFrames\n",
    "\n",
    "col_names = {0: 'estado', 5: 'sem', 6: 'm_acum', 7: 'f_acum', 8: '2016_acum'}\n",
    "\n",
    "for semana in semanas:\n",
    "    dataframe = pd.read_excel(xls, sheet_name=semana, header=None)    # read a sheet\n",
    "    dataframe.drop([1,2,3,4], axis=1, inplace=True)                   # delete unnecesary columns\n",
    "    dataframe['no_sem'] = semana.split('sem')[-1]                     # add 'no_sem' column\n",
    "    dataframe['anio'] = 2015                                          # add 'anio' column\n",
    "    dataframe.rename(columns=col_names, inplace=True)                 # rename columns\n",
    "    dataframe = dataframe[:].replace('-',0)                           # replace '-' for 0\n",
    "    dataframes.append(listing)                                        # appends all DataFrames"
   ]
  },
  {
   "cell_type": "code",
   "execution_count": 85,
   "metadata": {},
   "outputs": [
    {
     "data": {
      "text/html": [
       "<div>\n",
       "<style scoped>\n",
       "    .dataframe tbody tr th:only-of-type {\n",
       "        vertical-align: middle;\n",
       "    }\n",
       "\n",
       "    .dataframe tbody tr th {\n",
       "        vertical-align: top;\n",
       "    }\n",
       "\n",
       "    .dataframe thead th {\n",
       "        text-align: right;\n",
       "    }\n",
       "</style>\n",
       "<table border=\"1\" class=\"dataframe\">\n",
       "  <thead>\n",
       "    <tr style=\"text-align: right;\">\n",
       "      <th></th>\n",
       "      <th>estado</th>\n",
       "      <th>sem</th>\n",
       "      <th>m_acum</th>\n",
       "      <th>f_acum</th>\n",
       "      <th>2014_acum</th>\n",
       "      <th>no_sem</th>\n",
       "      <th>anio</th>\n",
       "    </tr>\n",
       "  </thead>\n",
       "  <tbody>\n",
       "    <tr>\n",
       "      <th>0</th>\n",
       "      <td>Aguascalientes</td>\n",
       "      <td>0</td>\n",
       "      <td>0</td>\n",
       "      <td>0</td>\n",
       "      <td>0</td>\n",
       "      <td>52</td>\n",
       "      <td>2015</td>\n",
       "    </tr>\n",
       "    <tr>\n",
       "      <th>1</th>\n",
       "      <td>Baja California</td>\n",
       "      <td>0</td>\n",
       "      <td>7</td>\n",
       "      <td>7</td>\n",
       "      <td>0</td>\n",
       "      <td>52</td>\n",
       "      <td>2015</td>\n",
       "    </tr>\n",
       "    <tr>\n",
       "      <th>2</th>\n",
       "      <td>Baja California Sur</td>\n",
       "      <td>0</td>\n",
       "      <td>1</td>\n",
       "      <td>8</td>\n",
       "      <td>0</td>\n",
       "      <td>52</td>\n",
       "      <td>2015</td>\n",
       "    </tr>\n",
       "    <tr>\n",
       "      <th>3</th>\n",
       "      <td>Campeche</td>\n",
       "      <td>0</td>\n",
       "      <td>0</td>\n",
       "      <td>3</td>\n",
       "      <td>0</td>\n",
       "      <td>52</td>\n",
       "      <td>2015</td>\n",
       "    </tr>\n",
       "    <tr>\n",
       "      <th>4</th>\n",
       "      <td>Coahuila</td>\n",
       "      <td>0</td>\n",
       "      <td>4</td>\n",
       "      <td>2</td>\n",
       "      <td>0</td>\n",
       "      <td>52</td>\n",
       "      <td>2015</td>\n",
       "    </tr>\n",
       "  </tbody>\n",
       "</table>\n",
       "</div>"
      ],
      "text/plain": [
       "                estado  sem  m_acum  f_acum  2014_acum no_sem  anio\n",
       "0       Aguascalientes    0       0       0          0     52  2015\n",
       "1      Baja California    0       7       7          0     52  2015\n",
       "2  Baja California Sur    0       1       8          0     52  2015\n",
       "3             Campeche    0       0       3          0     52  2015\n",
       "4             Coahuila    0       4       2          0     52  2015"
      ]
     },
     "execution_count": 85,
     "metadata": {},
     "output_type": "execute_result"
    }
   ],
   "source": [
    "combined_dataframes = pd.concat(dataframes)\n",
    "combined_dataframes.to_csv('../data/csv/2015.csv', index=False)\n",
    "combined_dataframes.head()"
   ]
  },
  {
   "cell_type": "code",
   "execution_count": null,
   "metadata": {},
   "outputs": [],
   "source": []
  }
 ],
 "metadata": {
  "kernelspec": {
   "display_name": "Python 3",
   "language": "python",
   "name": "python3"
  },
  "language_info": {
   "codemirror_mode": {
    "name": "ipython",
    "version": 3
   },
   "file_extension": ".py",
   "mimetype": "text/x-python",
   "name": "python",
   "nbconvert_exporter": "python",
   "pygments_lexer": "ipython3",
   "version": "3.7.2"
  }
 },
 "nbformat": 4,
 "nbformat_minor": 2
}
