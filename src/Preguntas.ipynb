{
 "cells": [
  {
   "cell_type": "markdown",
   "metadata": {},
   "source": [
    "# Preguntas \n",
    "\n",
    "- ¿Total de casos por año en México?\n",
    "- ¿Total de casos por mes en México? \n",
    "- ¿Total de casos por semana en México? \n",
    "- ¿Total de casos por año en Sonora?  \n",
    "- ¿Total de casos por mes en Sonora? \n",
    "- ¿Total de casos por semana en Sonora? \n",
    "- ¿Total de casos por mes de hombre y mujeres en Sonora?  "
   ]
  },
  {
   "cell_type": "code",
   "execution_count": null,
   "metadata": {},
   "outputs": [],
   "source": []
  }
 ],
 "metadata": {
  "kernelspec": {
   "display_name": "Python 3",
   "language": "python",
   "name": "python3"
  },
  "language_info": {
   "codemirror_mode": {
    "name": "ipython",
    "version": 3
   },
   "file_extension": ".py",
   "mimetype": "text/x-python",
   "name": "python",
   "nbconvert_exporter": "python",
   "pygments_lexer": "ipython3",
   "version": "3.7.2"
  }
 },
 "nbformat": 4,
 "nbformat_minor": 2
}
