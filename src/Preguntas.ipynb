{
 "cells": [
  {
   "cell_type": "markdown",
   "metadata": {},
   "source": [
    "# Preguntas \n",
    "\n",
    "- ¿Número de casos por año, México (gráfica)?\n",
    "- ¿Total de casos por mes en general? \n",
    "- ¿Total de casos por semana en general? \n",
    "- ¿Total de casos por año en Sonora?  \n",
    "- ¿Total Sonora por mes? \n",
    "- ¿Total Sonora por mes y hombre/mujeres? \n",
    "- ¿Total de casos por semana en Sonora?  "
   ]
  },
  {
   "cell_type": "code",
   "execution_count": null,
   "metadata": {},
   "outputs": [],
   "source": []
  }
 ],
 "metadata": {
  "kernelspec": {
   "display_name": "Python 3",
   "language": "python",
   "name": "python3"
  },
  "language_info": {
   "codemirror_mode": {
    "name": "ipython",
    "version": 3
   },
   "file_extension": ".py",
   "mimetype": "text/x-python",
   "name": "python",
   "nbconvert_exporter": "python",
   "pygments_lexer": "ipython3",
   "version": "3.7.2"
  }
 },
 "nbformat": 4,
 "nbformat_minor": 2
}
