{
 "cells": [
  {
   "cell_type": "markdown",
   "metadata": {},
   "source": [
    "# Preguntas "
   ]
  },
  {
   "cell_type": "code",
   "execution_count": 3,
   "metadata": {},
   "outputs": [],
   "source": [
    "import pandas as pd \n",
    "import numpy as np \n",
    "\n",
    "import matplotlib.pyplot as plt \n",
    "import seaborn as sns\n",
    "\n",
    "sns.set(style=\"whitegrid\")\n",
    "%matplotlib inline"
   ]
  },
  {
   "cell_type": "code",
   "execution_count": 5,
   "metadata": {},
   "outputs": [
    {
     "data": {
      "text/html": [
       "<div>\n",
       "<style scoped>\n",
       "    .dataframe tbody tr th:only-of-type {\n",
       "        vertical-align: middle;\n",
       "    }\n",
       "\n",
       "    .dataframe tbody tr th {\n",
       "        vertical-align: top;\n",
       "    }\n",
       "\n",
       "    .dataframe thead th {\n",
       "        text-align: right;\n",
       "    }\n",
       "</style>\n",
       "<table border=\"1\" class=\"dataframe\">\n",
       "  <thead>\n",
       "    <tr style=\"text-align: right;\">\n",
       "      <th></th>\n",
       "      <th>state</th>\n",
       "      <th>year</th>\n",
       "      <th>week</th>\n",
       "      <th>week_cases</th>\n",
       "      <th>m_accum</th>\n",
       "      <th>f_accum</th>\n",
       "      <th>cases_accum</th>\n",
       "    </tr>\n",
       "  </thead>\n",
       "  <tbody>\n",
       "    <tr>\n",
       "      <th>0</th>\n",
       "      <td>Aguascalientes</td>\n",
       "      <td>2013</td>\n",
       "      <td>2</td>\n",
       "      <td>0</td>\n",
       "      <td>0</td>\n",
       "      <td>0</td>\n",
       "      <td>0</td>\n",
       "    </tr>\n",
       "    <tr>\n",
       "      <th>1</th>\n",
       "      <td>Baja California</td>\n",
       "      <td>2013</td>\n",
       "      <td>2</td>\n",
       "      <td>0</td>\n",
       "      <td>0</td>\n",
       "      <td>0</td>\n",
       "      <td>3</td>\n",
       "    </tr>\n",
       "    <tr>\n",
       "      <th>2</th>\n",
       "      <td>Baja California Sur</td>\n",
       "      <td>2013</td>\n",
       "      <td>2</td>\n",
       "      <td>0</td>\n",
       "      <td>0</td>\n",
       "      <td>0</td>\n",
       "      <td>0</td>\n",
       "    </tr>\n",
       "    <tr>\n",
       "      <th>3</th>\n",
       "      <td>Campeche</td>\n",
       "      <td>2013</td>\n",
       "      <td>2</td>\n",
       "      <td>0</td>\n",
       "      <td>0</td>\n",
       "      <td>0</td>\n",
       "      <td>0</td>\n",
       "    </tr>\n",
       "    <tr>\n",
       "      <th>4</th>\n",
       "      <td>Coahuila</td>\n",
       "      <td>2013</td>\n",
       "      <td>2</td>\n",
       "      <td>0</td>\n",
       "      <td>0</td>\n",
       "      <td>0</td>\n",
       "      <td>1</td>\n",
       "    </tr>\n",
       "  </tbody>\n",
       "</table>\n",
       "</div>"
      ],
      "text/plain": [
       "                 state  year  week  week_cases  m_accum  f_accum  cases_accum\n",
       "0       Aguascalientes  2013     2           0        0        0            0\n",
       "1      Baja California  2013     2           0        0        0            3\n",
       "2  Baja California Sur  2013     2           0        0        0            0\n",
       "3             Campeche  2013     2           0        0        0            0\n",
       "4             Coahuila  2013     2           0        0        0            1"
      ]
     },
     "execution_count": 5,
     "metadata": {},
     "output_type": "execute_result"
    }
   ],
   "source": [
    "DATAPATH = '../data/csv/data_rick.csv'\n",
    "df_rick = pd.read_csv(DATAPATH)\n",
    "\n",
    "\n",
    "df_rick.head()"
   ]
  },
  {
   "cell_type": "markdown",
   "metadata": {},
   "source": [
    "## ¿Total de casos por año en México?"
   ]
  },
  {
   "cell_type": "markdown",
   "metadata": {},
   "source": [
    "La última semana registrada de cada año contiene los valores acumulados durante todo el año para cada columna. \n",
    "\n",
    "Última semana por año:\n",
    "- 2013: sem 53\n",
    "- 2014: sem 53\n",
    "- 2015: sem 52\n",
    "- 2016: sem 51\n",
    "- 2017: sem 14"
   ]
  },
  {
   "cell_type": "code",
   "execution_count": 12,
   "metadata": {},
   "outputs": [
    {
     "data": {
      "text/plain": [
       "1032"
      ]
     },
     "execution_count": 12,
     "metadata": {},
     "output_type": "execute_result"
    }
   ],
   "source": [
    "lw2013 = df_rick.loc[(df_rick['year'] == 2013) & (df_rick['week'] == 53)]    # última semana de 2013\n",
    "cases2013 = lw2013['cases_accum'].sum()    # total de casos en 2013\n",
    "\n",
    "cases2013"
   ]
  },
  {
   "cell_type": "code",
   "execution_count": 13,
   "metadata": {},
   "outputs": [
    {
     "data": {
      "text/plain": [
       "268"
      ]
     },
     "execution_count": 13,
     "metadata": {},
     "output_type": "execute_result"
    }
   ],
   "source": [
    "lw2014 = df_rick.loc[(df_rick['year'] == 2014) & (df_rick['week'] == 53)]\n",
    "cases2014 = lw2014['cases_accum'].sum()\n",
    "\n",
    "cases2014"
   ]
  },
  {
   "cell_type": "code",
   "execution_count": 14,
   "metadata": {},
   "outputs": [
    {
     "data": {
      "text/plain": [
       "266"
      ]
     },
     "execution_count": 14,
     "metadata": {},
     "output_type": "execute_result"
    }
   ],
   "source": [
    "lw2015 = df_rick.loc[(df_rick['year'] == 2015) & (df_rick['week'] == 52)]\n",
    "cases2015 = lw2015['m_accum'].sum() + lw2015['f_accum'].sum() \n",
    "\n",
    "cases2015"
   ]
  },
  {
   "cell_type": "code",
   "execution_count": 15,
   "metadata": {},
   "outputs": [
    {
     "data": {
      "text/plain": [
       "82"
      ]
     },
     "execution_count": 15,
     "metadata": {},
     "output_type": "execute_result"
    }
   ],
   "source": [
    "lw2016 = df_rick.loc[(df_rick['year'] == 2016) & (df_rick['week'] == 51)]\n",
    "cases2016 = lw2016['cases_accum'].sum()\n",
    "\n",
    "cases2016"
   ]
  },
  {
   "cell_type": "code",
   "execution_count": 16,
   "metadata": {},
   "outputs": [
    {
     "data": {
      "text/html": [
       "<div>\n",
       "<style scoped>\n",
       "    .dataframe tbody tr th:only-of-type {\n",
       "        vertical-align: middle;\n",
       "    }\n",
       "\n",
       "    .dataframe tbody tr th {\n",
       "        vertical-align: top;\n",
       "    }\n",
       "\n",
       "    .dataframe thead th {\n",
       "        text-align: right;\n",
       "    }\n",
       "</style>\n",
       "<table border=\"1\" class=\"dataframe\">\n",
       "  <thead>\n",
       "    <tr style=\"text-align: right;\">\n",
       "      <th></th>\n",
       "      <th>year</th>\n",
       "      <th>cases</th>\n",
       "    </tr>\n",
       "  </thead>\n",
       "  <tbody>\n",
       "    <tr>\n",
       "      <th>0</th>\n",
       "      <td>2013</td>\n",
       "      <td>1032</td>\n",
       "    </tr>\n",
       "    <tr>\n",
       "      <th>1</th>\n",
       "      <td>2014</td>\n",
       "      <td>268</td>\n",
       "    </tr>\n",
       "    <tr>\n",
       "      <th>2</th>\n",
       "      <td>2015</td>\n",
       "      <td>266</td>\n",
       "    </tr>\n",
       "    <tr>\n",
       "      <th>3</th>\n",
       "      <td>2016</td>\n",
       "      <td>82</td>\n",
       "    </tr>\n",
       "  </tbody>\n",
       "</table>\n",
       "</div>"
      ],
      "text/plain": [
       "   year  cases\n",
       "0  2013   1032\n",
       "1  2014    268\n",
       "2  2015    266\n",
       "3  2016     82"
      ]
     },
     "execution_count": 16,
     "metadata": {},
     "output_type": "execute_result"
    }
   ],
   "source": [
    "cases = {'year' : [2013, 2014, 2015, 2016], 'cases' : [cases2013, cases2014, cases2015, cases2016]}\n",
    "df_cases = pd.DataFrame(data=cases)\n",
    "\n",
    "df_cases"
   ]
  },
  {
   "cell_type": "code",
   "execution_count": 17,
   "metadata": {},
   "outputs": [
    {
     "data": {
      "text/plain": [
       "[Text(0, 0.5, 'Número de casos'),\n",
       " Text(0.5, 0, 'Año'),\n",
       " Text(0.5, 1.0, 'Casos por año en México')]"
      ]
     },
     "execution_count": 17,
     "metadata": {},
     "output_type": "execute_result"
    },
    {
     "data": {
      "image/png": "[encoded data removed]",
      "text/plain": [
       "<Figure size 432x288 with 1 Axes>"
      ]
     },
     "metadata": {
      "needs_background": "light"
     },
     "output_type": "display_data"
    }
   ],
   "source": [
    "ax = sns.barplot(x='year', y='cases', data=df_cases)\n",
    "ax.set(xlabel='Año', ylabel='Número de casos', title=\"Casos por año en México\")"
   ]
  },
  {
   "cell_type": "markdown",
   "metadata": {},
   "source": [
    "## ¿Total de casos por mes en México?"
   ]
  },
  {
   "cell_type": "code",
   "execution_count": null,
   "metadata": {},
   "outputs": [],
   "source": []
  },
  {
   "cell_type": "markdown",
   "metadata": {},
   "source": [
    "## ¿Total de casos por semana en México?"
   ]
  },
  {
   "cell_type": "markdown",
   "metadata": {},
   "source": [
    "Datos para comprobar: \n",
    "\n",
    "- Sem #: 2013 + 2014 + 2015 + 2016 \n",
    "- Sem 2: 5 + 3 + 0 + 0 = 8\n",
    "- Sem 25: 16 + 4 + 7 + 5 = 32\n",
    "- Sem 35: 23 + 3 + 14 + 0 = 40\n",
    "- Sem 50: 11 + 2 + 3 + 0 = 16"
   ]
  },
  {
   "cell_type": "code",
   "execution_count": 49,
   "metadata": {},
   "outputs": [],
   "source": [
    "df_2013wc = pd.read_csv('../data/csv/2013wc.csv', header=None)    # num de casos por semana en 2013\n",
    "\n",
    "df_2013wc.columns = ['week', 'week_cases']"
   ]
  },
  {
   "cell_type": "code",
   "execution_count": 47,
   "metadata": {},
   "outputs": [
    {
     "data": {
      "text/html": [
       "<div>\n",
       "<style scoped>\n",
       "    .dataframe tbody tr th:only-of-type {\n",
       "        vertical-align: middle;\n",
       "    }\n",
       "\n",
       "    .dataframe tbody tr th {\n",
       "        vertical-align: top;\n",
       "    }\n",
       "\n",
       "    .dataframe thead th {\n",
       "        text-align: right;\n",
       "    }\n",
       "</style>\n",
       "<table border=\"1\" class=\"dataframe\">\n",
       "  <thead>\n",
       "    <tr style=\"text-align: right;\">\n",
       "      <th></th>\n",
       "      <th>week</th>\n",
       "      <th>week_cases</th>\n",
       "    </tr>\n",
       "  </thead>\n",
       "  <tbody>\n",
       "    <tr>\n",
       "      <th>52</th>\n",
       "      <td>1</td>\n",
       "      <td>0</td>\n",
       "    </tr>\n",
       "    <tr>\n",
       "      <th>0</th>\n",
       "      <td>2</td>\n",
       "      <td>8</td>\n",
       "    </tr>\n",
       "    <tr>\n",
       "      <th>1</th>\n",
       "      <td>3</td>\n",
       "      <td>30</td>\n",
       "    </tr>\n",
       "    <tr>\n",
       "      <th>2</th>\n",
       "      <td>4</td>\n",
       "      <td>20</td>\n",
       "    </tr>\n",
       "    <tr>\n",
       "      <th>3</th>\n",
       "      <td>5</td>\n",
       "      <td>26</td>\n",
       "    </tr>\n",
       "  </tbody>\n",
       "</table>\n",
       "</div>"
      ],
      "text/plain": [
       "    week  week_cases\n",
       "52     1           0\n",
       "0      2           8\n",
       "1      3          30\n",
       "2      4          20\n",
       "3      5          26"
      ]
     },
     "execution_count": 47,
     "metadata": {},
     "output_type": "execute_result"
    }
   ],
   "source": [
    "weeks = df_rick['week'].unique()\n",
    "\n",
    "num_wc = []\n",
    "\n",
    "for week in weeks:\n",
    "    num_wc.append((week, df_rick[df_rick['week'] == week].sum()['week_cases'] \n",
    "                   + df_2013wc[df_2013wc['week'] == week].sum()['week_cases']))\n",
    "\n",
    "df_num_wc = pd.DataFrame(num_wc)\n",
    "df_num_wc.columns = ['week', 'week_cases']\n",
    "df_num_wc = df_num_wc.sort_values('week')\n",
    "\n",
    "df_num_wc.head()"
   ]
  },
  {
   "cell_type": "code",
   "execution_count": 53,
   "metadata": {},
   "outputs": [
    {
     "data": {
      "text/plain": [
       "[Text(0, 0.5, 'Número de casos'),\n",
       " Text(0.5, 0, 'Semana'),\n",
       " Text(0.5, 1.0, 'Casos por semana en México')]"
      ]
     },
     "execution_count": 53,
     "metadata": {},
     "output_type": "execute_result"
    },
    {
     "data": {
      "image/png": "[encoded data removed]",
      "text/plain": [
       "<Figure size 1152x1152 with 1 Axes>"
      ]
     },
     "metadata": {},
     "output_type": "display_data"
    }
   ],
   "source": [
    "sns.set(rc={'figure.figsize': (16, 16)}, font_scale=1.1)\n",
    "ax = sns.barplot(x='week', y='week_cases', data=df_num_wc, color='b')\n",
    "ax.set(xlabel='Semana', ylabel='Número de casos', title=\"Casos por semana en México\")"
   ]
  },
  {
   "cell_type": "code",
   "execution_count": 126,
   "metadata": {},
   "outputs": [
    {
     "data": {
      "text/plain": [
       "<seaborn.axisgrid.JointGrid at 0x1c66dd8a940>"
      ]
     },
     "execution_count": 126,
     "metadata": {},
     "output_type": "execute_result"
    },
    {
     "data": {
      "image/png": "[encoded data removed]",
      "text/plain": [
       "<Figure size 432x432 with 3 Axes>"
      ]
     },
     "metadata": {},
     "output_type": "display_data"
    }
   ],
   "source": [
    "ax = sns.jointplot(x = 'week', y = 'week_cases', data=df_num_wc)\n",
    "ax.set_axis_labels('Semana','No. de casos')"
   ]
  },
  {
   "cell_type": "markdown",
   "metadata": {},
   "source": [
    "## ¿Total de casos por año en Sonora?"
   ]
  },
  {
   "cell_type": "code",
   "execution_count": 19,
   "metadata": {},
   "outputs": [],
   "source": [
    "sonlw2013 = lw2013[lw2013['state'] == 'Sonora']\n",
    "son_cases2013 = sonlw2013['cases_accum'].sum()\n",
    "\n",
    "sonlw2014 = lw2014[lw2014['state'] == 'Sonora']\n",
    "son_cases2014 = sonlw2014['cases_accum'].sum()\n",
    "\n",
    "sonlw2015 = lw2015[lw2015['state'] == 'Sonora']\n",
    "son_cases2015 = sonlw2015['cases_accum'].sum()\n",
    "    \n",
    "sonlw2016 = lw2016[lw2016['state'] == 'Sonora']\n",
    "son_cases2016 = sonlw2016['cases_accum'].sum()"
   ]
  },
  {
   "cell_type": "code",
   "execution_count": 20,
   "metadata": {},
   "outputs": [
    {
     "data": {
      "text/html": [
       "<div>\n",
       "<style scoped>\n",
       "    .dataframe tbody tr th:only-of-type {\n",
       "        vertical-align: middle;\n",
       "    }\n",
       "\n",
       "    .dataframe tbody tr th {\n",
       "        vertical-align: top;\n",
       "    }\n",
       "\n",
       "    .dataframe thead th {\n",
       "        text-align: right;\n",
       "    }\n",
       "</style>\n",
       "<table border=\"1\" class=\"dataframe\">\n",
       "  <thead>\n",
       "    <tr style=\"text-align: right;\">\n",
       "      <th></th>\n",
       "      <th>year</th>\n",
       "      <th>cases</th>\n",
       "    </tr>\n",
       "  </thead>\n",
       "  <tbody>\n",
       "    <tr>\n",
       "      <th>0</th>\n",
       "      <td>2013</td>\n",
       "      <td>81</td>\n",
       "    </tr>\n",
       "    <tr>\n",
       "      <th>1</th>\n",
       "      <td>2014</td>\n",
       "      <td>63</td>\n",
       "    </tr>\n",
       "    <tr>\n",
       "      <th>2</th>\n",
       "      <td>2015</td>\n",
       "      <td>46</td>\n",
       "    </tr>\n",
       "    <tr>\n",
       "      <th>3</th>\n",
       "      <td>2016</td>\n",
       "      <td>35</td>\n",
       "    </tr>\n",
       "  </tbody>\n",
       "</table>\n",
       "</div>"
      ],
      "text/plain": [
       "   year  cases\n",
       "0  2013     81\n",
       "1  2014     63\n",
       "2  2015     46\n",
       "3  2016     35"
      ]
     },
     "execution_count": 20,
     "metadata": {},
     "output_type": "execute_result"
    }
   ],
   "source": [
    "son_cases = {'year' : [2013, 2014, 2015, 2016], 'cases' : [son_cases2013, son_cases2014, son_cases2015, son_cases2016]}\n",
    "df_son_cases = pd.DataFrame(data=son_cases)\n",
    "\n",
    "df_son_cases"
   ]
  },
  {
   "cell_type": "code",
   "execution_count": 21,
   "metadata": {},
   "outputs": [
    {
     "data": {
      "text/plain": [
       "[Text(0, 0.5, 'Número de casos'),\n",
       " Text(0.5, 0, 'Año'),\n",
       " Text(0.5, 1.0, 'Número de casos por año en Sonora')]"
      ]
     },
     "execution_count": 21,
     "metadata": {},
     "output_type": "execute_result"
    },
    {
     "data": {
      "image/png": "[encoded data removed]",
      "text/plain": [
       "<Figure size 432x288 with 1 Axes>"
      ]
     },
     "metadata": {
      "needs_background": "light"
     },
     "output_type": "display_data"
    }
   ],
   "source": [
    "ax = sns.barplot(x='year', y='cases', data=df_son_cases)\n",
    "ax.set(xlabel='Año', ylabel='Número de casos', title=\"Número de casos por año en Sonora\")"
   ]
  },
  {
   "cell_type": "markdown",
   "metadata": {},
   "source": [
    "## ¿Total de casos por semana en Sonora?"
   ]
  },
  {
   "cell_type": "markdown",
   "metadata": {},
   "source": [
    "Datos para comprobar: \n",
    "\n",
    "- Sem #: 2013 + 2014 + 2015 + 2016\n",
    "- Sem 2:   + 0 + 0 + 0 + 0 = 0\n",
    "- Sem 25:  + 2 + 2 + 1 = 5\n",
    "- Sem 35:  + 3 + 5 + 0 = 8 \n",
    "- Sem 50:  + 0 + 0 + 0 = 0"
   ]
  },
  {
   "cell_type": "markdown",
   "metadata": {},
   "source": [
    "De 2014 a 2016 - solo se toman estos años porque los datos para 2013 no están desglosados por estado **todo** y los datos para 2017 no están completos (solo llegan hasta semana 14."
   ]
  },
  {
   "cell_type": "code",
   "execution_count": 63,
   "metadata": {},
   "outputs": [
    {
     "data": {
      "text/html": [
       "<div>\n",
       "<style scoped>\n",
       "    .dataframe tbody tr th:only-of-type {\n",
       "        vertical-align: middle;\n",
       "    }\n",
       "\n",
       "    .dataframe tbody tr th {\n",
       "        vertical-align: top;\n",
       "    }\n",
       "\n",
       "    .dataframe thead th {\n",
       "        text-align: right;\n",
       "    }\n",
       "</style>\n",
       "<table border=\"1\" class=\"dataframe\">\n",
       "  <thead>\n",
       "    <tr style=\"text-align: right;\">\n",
       "      <th></th>\n",
       "      <th>week</th>\n",
       "      <th>week_cases</th>\n",
       "    </tr>\n",
       "  </thead>\n",
       "  <tbody>\n",
       "    <tr>\n",
       "      <th>52</th>\n",
       "      <td>1</td>\n",
       "      <td>0</td>\n",
       "    </tr>\n",
       "    <tr>\n",
       "      <th>0</th>\n",
       "      <td>2</td>\n",
       "      <td>0</td>\n",
       "    </tr>\n",
       "    <tr>\n",
       "      <th>1</th>\n",
       "      <td>3</td>\n",
       "      <td>5</td>\n",
       "    </tr>\n",
       "    <tr>\n",
       "      <th>2</th>\n",
       "      <td>4</td>\n",
       "      <td>0</td>\n",
       "    </tr>\n",
       "    <tr>\n",
       "      <th>3</th>\n",
       "      <td>5</td>\n",
       "      <td>2</td>\n",
       "    </tr>\n",
       "  </tbody>\n",
       "</table>\n",
       "</div>"
      ],
      "text/plain": [
       "    week  week_cases\n",
       "52     1           0\n",
       "0      2           0\n",
       "1      3           5\n",
       "2      4           0\n",
       "3      5           2"
      ]
     },
     "execution_count": 63,
     "metadata": {},
     "output_type": "execute_result"
    }
   ],
   "source": [
    "weeks = df_rick['week'].unique()\n",
    "\n",
    "num_wc = []\n",
    "\n",
    "for week in weeks:\n",
    "    num_wc.append((week, df_rick[(df_rick['week'] == week) & \n",
    "                                 (df_rick['state'] == 'Sonora')]['week_cases']))\n",
    "    \n",
    "son_num_wc = pd.DataFrame(num_wc)\n",
    "son_num_wc.columns = ['week', 'week_cases']\n",
    "son_num_wc = df_num_wc.sort_values('week')\n",
    "\n",
    "son_num_wc.head()"
   ]
  },
  {
   "cell_type": "code",
   "execution_count": 58,
   "metadata": {},
   "outputs": [
    {
     "name": "stdout",
     "output_type": "stream",
     "text": [
      "   week  week_cases\n",
      "0     2           0\n",
      "    week  week_cases\n",
      "23    25           5\n",
      "    week  week_cases\n",
      "33    35           8\n",
      "    week  week_cases\n",
      "48    50           0\n"
     ]
    }
   ],
   "source": [
    "test = [2, 25, 35, 50]\n",
    "\n",
    "for aux in test:\n",
    "    print(df_num_wc[df_num_wc['week'] == aux])"
   ]
  },
  {
   "cell_type": "code",
   "execution_count": null,
   "metadata": {},
   "outputs": [],
   "source": [
    "sns.set(rc={'figure.figsize': (16, 16)}, font_scale=1.1)\n",
    "ax = sns.barplot(x='week', y='week_cases', data=df_num_wc, color='b', saturation=0.001)\n",
    "ax.set(xlabel='Semana', ylabel='Número de casos', title=\"Casos por semana en México\")"
   ]
  },
  {
   "cell_type": "code",
   "execution_count": 64,
   "metadata": {},
   "outputs": [
    {
     "data": {
      "image/png": "[encoded data removed]",
      "text/plain": [
       "<Figure size 1152x1152 with 1 Axes>"
      ]
     },
     "metadata": {},
     "output_type": "display_data"
    }
   ],
   "source": [
    "sns.set(rc={'figure.figsize': (16, 16)}, font_scale=1.1)\n",
    "ax = sns.barplot(x='week', y='week_cases', data=son_num_wc, color='b')"
   ]
  },
  {
   "cell_type": "code",
   "execution_count": 30,
   "metadata": {},
   "outputs": [
    {
     "data": {
      "text/html": [
       "<div>\n",
       "<style scoped>\n",
       "    .dataframe tbody tr th:only-of-type {\n",
       "        vertical-align: middle;\n",
       "    }\n",
       "\n",
       "    .dataframe tbody tr th {\n",
       "        vertical-align: top;\n",
       "    }\n",
       "\n",
       "    .dataframe thead th {\n",
       "        text-align: right;\n",
       "    }\n",
       "</style>\n",
       "<table border=\"1\" class=\"dataframe\">\n",
       "  <thead>\n",
       "    <tr style=\"text-align: right;\">\n",
       "      <th></th>\n",
       "      <th>week_cases</th>\n",
       "      <th>year</th>\n",
       "    </tr>\n",
       "  </thead>\n",
       "  <tbody>\n",
       "    <tr>\n",
       "      <th>4985</th>\n",
       "      <td>0</td>\n",
       "      <td>2016</td>\n",
       "    </tr>\n",
       "  </tbody>\n",
       "</table>\n",
       "</div>"
      ],
      "text/plain": [
       "      week_cases  year\n",
       "4985           0  2016"
      ]
     },
     "execution_count": 30,
     "metadata": {},
     "output_type": "execute_result"
    }
   ],
   "source": [
    "df_rick[(df_rick['week'] == 2) & (df_rick['state'] == 'Sonora') & (df_rick['year'] == year)][['week_cases', 'year']]"
   ]
  },
  {
   "attachments": {},
   "cell_type": "markdown",
   "metadata": {},
   "source": [
    "### TO DO \n",
    "\n",
    "1. Revisar todo lo que llevo\n",
    "2. Terminar preguntas"
   ]
  },
  {
   "cell_type": "code",
   "execution_count": null,
   "metadata": {},
   "outputs": [],
   "source": []
  }
 ],
 "metadata": {
  "kernelspec": {
   "display_name": "Python 3",
   "language": "python",
   "name": "python3"
  },
  "language_info": {
   "codemirror_mode": {
    "name": "ipython",
    "version": 3
   },
   "file_extension": ".py",
   "mimetype": "text/x-python",
   "name": "python",
   "nbconvert_exporter": "python",
   "pygments_lexer": "ipython3",
   "version": "3.7.2"
  }
 },
 "nbformat": 4,
 "nbformat_minor": 2
}
